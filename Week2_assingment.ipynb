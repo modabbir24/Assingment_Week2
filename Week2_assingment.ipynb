{
 "cells": [
  {
   "cell_type": "markdown",
   "metadata": {},
   "source": [
    "<h3>Part 1. Real State Prices</h3>"
   ]
  },
  {
   "cell_type": "code",
   "execution_count": 285,
   "metadata": {},
   "outputs": [],
   "source": [
    "import pandas as pd\n",
    "import numpy as np\n",
    "import matplotlib.pyplot as plt\n",
    "import scipy.stats as stats\n",
    "import math\n",
    "%matplotlib inline"
   ]
  },
  {
   "cell_type": "code",
   "execution_count": 286,
   "metadata": {},
   "outputs": [],
   "source": [
    "houses_col=['Transction unique identifier','Price','Date of Transfer','Postcode','Property Type','old/new','Duration','PAON','SAON','Street','Locality','Town/City','District','Country','PPDCategory Type','Record Status-monthly file only']\n",
    "houses = pd.read_csv('houses.csv', header=-1, names=houses_col)"
   ]
  },
  {
   "cell_type": "code",
   "execution_count": 251,
   "metadata": {
    "scrolled": true
   },
   "outputs": [
    {
     "data": {
      "text/html": [
       "<div>\n",
       "<style scoped>\n",
       "    .dataframe tbody tr th:only-of-type {\n",
       "        vertical-align: middle;\n",
       "    }\n",
       "\n",
       "    .dataframe tbody tr th {\n",
       "        vertical-align: top;\n",
       "    }\n",
       "\n",
       "    .dataframe thead th {\n",
       "        text-align: right;\n",
       "    }\n",
       "</style>\n",
       "<table border=\"1\" class=\"dataframe\">\n",
       "  <thead>\n",
       "    <tr style=\"text-align: right;\">\n",
       "      <th></th>\n",
       "      <th>Transction unique identifier</th>\n",
       "      <th>Price</th>\n",
       "      <th>Date of Transfer</th>\n",
       "      <th>Postcode</th>\n",
       "      <th>Property Type</th>\n",
       "      <th>old/new</th>\n",
       "      <th>Duration</th>\n",
       "      <th>PAON</th>\n",
       "      <th>SAON</th>\n",
       "      <th>Street</th>\n",
       "      <th>Locality</th>\n",
       "      <th>Town/City</th>\n",
       "      <th>District</th>\n",
       "      <th>Country</th>\n",
       "      <th>PPDCategory Type</th>\n",
       "      <th>Record Status-monthly file only</th>\n",
       "    </tr>\n",
       "  </thead>\n",
       "  <tbody>\n",
       "    <tr>\n",
       "      <th>0</th>\n",
       "      <td>{02A6460F-C1F3-4977-B7ED-2A77C79302AE}</td>\n",
       "      <td>52000</td>\n",
       "      <td>2001-12-07 00:00</td>\n",
       "      <td>DE6 1BL</td>\n",
       "      <td>S</td>\n",
       "      <td>N</td>\n",
       "      <td>F</td>\n",
       "      <td>1A</td>\n",
       "      <td>NaN</td>\n",
       "      <td>OLD HILL</td>\n",
       "      <td>ASHBOURNE</td>\n",
       "      <td>ASHBOURNE</td>\n",
       "      <td>DERBYSHIRE DALES</td>\n",
       "      <td>DERBYSHIRE</td>\n",
       "      <td>A</td>\n",
       "      <td>A</td>\n",
       "    </tr>\n",
       "    <tr>\n",
       "      <th>1</th>\n",
       "      <td>{5EEB0C41-09F5-4BDF-A73E-A4E72E20BFC4}</td>\n",
       "      <td>57000</td>\n",
       "      <td>2003-09-12 00:00</td>\n",
       "      <td>B36 0RA</td>\n",
       "      <td>T</td>\n",
       "      <td>N</td>\n",
       "      <td>F</td>\n",
       "      <td>44</td>\n",
       "      <td>NaN</td>\n",
       "      <td>GREENFINCH ROAD</td>\n",
       "      <td>BIRMINGHAM</td>\n",
       "      <td>BIRMINGHAM</td>\n",
       "      <td>SOLIHULL</td>\n",
       "      <td>WEST MIDLANDS</td>\n",
       "      <td>A</td>\n",
       "      <td>A</td>\n",
       "    </tr>\n",
       "    <tr>\n",
       "      <th>2</th>\n",
       "      <td>{09975216-3588-418C-B6C5-A5704B0E77DE}</td>\n",
       "      <td>69500</td>\n",
       "      <td>2005-12-21 00:00</td>\n",
       "      <td>OL16 2XR</td>\n",
       "      <td>T</td>\n",
       "      <td>N</td>\n",
       "      <td>L</td>\n",
       "      <td>143</td>\n",
       "      <td>NaN</td>\n",
       "      <td>BELFIELD ROAD</td>\n",
       "      <td>ROCHDALE</td>\n",
       "      <td>ROCHDALE</td>\n",
       "      <td>ROCHDALE</td>\n",
       "      <td>GREATER MANCHESTER</td>\n",
       "      <td>A</td>\n",
       "      <td>A</td>\n",
       "    </tr>\n",
       "    <tr>\n",
       "      <th>3</th>\n",
       "      <td>{44CB83B9-0EC3-48D4-9B8D-B34D13D3C09E}</td>\n",
       "      <td>84000</td>\n",
       "      <td>2001-01-31 00:00</td>\n",
       "      <td>SN1 4LJ</td>\n",
       "      <td>T</td>\n",
       "      <td>N</td>\n",
       "      <td>F</td>\n",
       "      <td>34</td>\n",
       "      <td>NaN</td>\n",
       "      <td>KINGSHILL ROAD</td>\n",
       "      <td>SWINDON</td>\n",
       "      <td>SWINDON</td>\n",
       "      <td>SWINDON</td>\n",
       "      <td>SWINDON</td>\n",
       "      <td>A</td>\n",
       "      <td>A</td>\n",
       "    </tr>\n",
       "    <tr>\n",
       "      <th>4</th>\n",
       "      <td>{74828706-CBFC-406D-B7B6-394B5863E22E}</td>\n",
       "      <td>110000</td>\n",
       "      <td>1998-02-27 00:00</td>\n",
       "      <td>OX3 8AJ</td>\n",
       "      <td>S</td>\n",
       "      <td>N</td>\n",
       "      <td>F</td>\n",
       "      <td>62</td>\n",
       "      <td>NaN</td>\n",
       "      <td>WHARTON ROAD</td>\n",
       "      <td>HEADINGTON</td>\n",
       "      <td>OXFORD</td>\n",
       "      <td>OXFORD</td>\n",
       "      <td>OXFORDSHIRE</td>\n",
       "      <td>A</td>\n",
       "      <td>A</td>\n",
       "    </tr>\n",
       "  </tbody>\n",
       "</table>\n",
       "</div>"
      ],
      "text/plain": [
       "             Transction unique identifier   Price  Date of Transfer  Postcode  \\\n",
       "0  {02A6460F-C1F3-4977-B7ED-2A77C79302AE}   52000  2001-12-07 00:00   DE6 1BL   \n",
       "1  {5EEB0C41-09F5-4BDF-A73E-A4E72E20BFC4}   57000  2003-09-12 00:00   B36 0RA   \n",
       "2  {09975216-3588-418C-B6C5-A5704B0E77DE}   69500  2005-12-21 00:00  OL16 2XR   \n",
       "3  {44CB83B9-0EC3-48D4-9B8D-B34D13D3C09E}   84000  2001-01-31 00:00   SN1 4LJ   \n",
       "4  {74828706-CBFC-406D-B7B6-394B5863E22E}  110000  1998-02-27 00:00   OX3 8AJ   \n",
       "\n",
       "  Property Type old/new Duration PAON SAON           Street    Locality  \\\n",
       "0             S       N        F   1A  NaN         OLD HILL   ASHBOURNE   \n",
       "1             T       N        F   44  NaN  GREENFINCH ROAD  BIRMINGHAM   \n",
       "2             T       N        L  143  NaN    BELFIELD ROAD    ROCHDALE   \n",
       "3             T       N        F   34  NaN   KINGSHILL ROAD     SWINDON   \n",
       "4             S       N        F   62  NaN     WHARTON ROAD  HEADINGTON   \n",
       "\n",
       "    Town/City          District             Country PPDCategory Type  \\\n",
       "0   ASHBOURNE  DERBYSHIRE DALES          DERBYSHIRE                A   \n",
       "1  BIRMINGHAM          SOLIHULL       WEST MIDLANDS                A   \n",
       "2    ROCHDALE          ROCHDALE  GREATER MANCHESTER                A   \n",
       "3     SWINDON           SWINDON             SWINDON                A   \n",
       "4      OXFORD            OXFORD         OXFORDSHIRE                A   \n",
       "\n",
       "  Record Status-monthly file only  \n",
       "0                               A  \n",
       "1                               A  \n",
       "2                               A  \n",
       "3                               A  \n",
       "4                               A  "
      ]
     },
     "execution_count": 251,
     "metadata": {},
     "output_type": "execute_result"
    }
   ],
   "source": [
    "houses.head()"
   ]
  },
  {
   "cell_type": "code",
   "execution_count": 252,
   "metadata": {},
   "outputs": [
    {
     "data": {
      "text/plain": [
       "count    1.000000e+05\n",
       "mean     1.743868e+05\n",
       "std      3.514634e+05\n",
       "min      1.500000e+02\n",
       "25%      7.400000e+04\n",
       "50%      1.290000e+05\n",
       "75%      2.070000e+05\n",
       "max      4.846572e+07\n",
       "Name: Price, dtype: float64"
      ]
     },
     "execution_count": 252,
     "metadata": {},
     "output_type": "execute_result"
    }
   ],
   "source": [
    "houses.Price.describe()"
   ]
  },
  {
   "cell_type": "code",
   "execution_count": 253,
   "metadata": {},
   "outputs": [
    {
     "data": {
      "text/plain": [
       "129000.0"
      ]
     },
     "execution_count": 253,
     "metadata": {},
     "output_type": "execute_result"
    }
   ],
   "source": [
    "houses.Price.median()"
   ]
  },
  {
   "cell_type": "code",
   "execution_count": 254,
   "metadata": {},
   "outputs": [
    {
     "data": {
      "text/plain": [
       "<matplotlib.axes._subplots.AxesSubplot at 0x214390c8cf8>"
      ]
     },
     "execution_count": 254,
     "metadata": {},
     "output_type": "execute_result"
    },
    {
     "data": {
      "image/png": "[encoded data removed]",
      "text/plain": [
       "<Figure size 432x288 with 1 Axes>"
      ]
     },
     "metadata": {
      "needs_background": "light"
     },
     "output_type": "display_data"
    }
   ],
   "source": [
    "houses.Price.plot(kind='hist',rwidth=1,color='r')"
   ]
  },
  {
   "cell_type": "markdown",
   "metadata": {},
   "source": [
    "<p>The above histogram looks ugly because we donot get much info about the shape of histogram and also it donot tells us how the prices varies </p>\n",
    "<p>To make it more informative, we can draw different plots considering the only subset of price i.e. to break the whole data into parts</p> "
   ]
  },
  {
   "cell_type": "code",
   "execution_count": 273,
   "metadata": {},
   "outputs": [
    {
     "data": {
      "text/plain": [
       "37996         150\n",
       "37806         192\n",
       "29008         300\n",
       "52037         325\n",
       "53736         450\n",
       "27490         501\n",
       "55122         800\n",
       "51937        1350\n",
       "15266        1600\n",
       "31745        2000\n",
       "65088        2000\n",
       "65274        2000\n",
       "86616        2010\n",
       "57679        3000\n",
       "50046        3000\n",
       "17599        3000\n",
       "702          3000\n",
       "5221         3000\n",
       "92103        3250\n",
       "11681        3500\n",
       "18539        3500\n",
       "29977        3900\n",
       "11346        4000\n",
       "62142        4000\n",
       "64538        4000\n",
       "36708        4500\n",
       "74649        4500\n",
       "58413        5000\n",
       "69228        5000\n",
       "20719        5000\n",
       "           ...   \n",
       "21702     5600000\n",
       "74301     5700000\n",
       "25532     5725000\n",
       "86132     5800000\n",
       "31482     6050000\n",
       "83976     6250000\n",
       "39050     6600000\n",
       "57171     6700000\n",
       "45362     6750000\n",
       "41300     6975980\n",
       "34121     7392000\n",
       "4608      7500000\n",
       "79364     7505000\n",
       "60604     8000000\n",
       "38513     8281588\n",
       "50021     9250000\n",
       "31043     9650000\n",
       "43598    10000000\n",
       "55432    11626000\n",
       "34638    13285244\n",
       "66805    15193950\n",
       "31298    16100000\n",
       "85887    18500000\n",
       "87158    19520316\n",
       "85212    20000000\n",
       "77511    21750000\n",
       "23632    28995000\n",
       "64885    33850000\n",
       "94792    35361000\n",
       "10345    48465717\n",
       "Name: Price, Length: 100000, dtype: int64"
      ]
     },
     "execution_count": 273,
     "metadata": {},
     "output_type": "execute_result"
    }
   ],
   "source": [
    "houses.Price.sort_values()"
   ]
  },
  {
   "cell_type": "code",
   "execution_count": 274,
   "metadata": {},
   "outputs": [
    {
     "data": {
      "text/plain": [
       "(array([0., 0., 1., 0., 0., 0., 1., 0., 0., 2., 0., 1., 1., 0., 1.]),\n",
       " array([130, 140, 150, 160, 170, 180, 190, 200, 210, 300, 340, 400, 500,\n",
       "        600, 700, 900]),\n",
       " <a list of 15 Patch objects>)"
      ]
     },
     "execution_count": 274,
     "metadata": {},
     "output_type": "execute_result"
    },
    {
     "data": {
      "image/png": "[encoded data removed]",
      "text/plain": [
       "<Figure size 432x288 with 1 Axes>"
      ]
     },
     "metadata": {
      "needs_background": "light"
     },
     "output_type": "display_data"
    }
   ],
   "source": [
    "x = houses['Price']\n",
    "bins=[130,140,150,160,170,180,190,200,210,300,340,400,500,600,700,900]\n",
    "plt.hist(x,bins,histtype='bar',rwidth=0.8)"
   ]
  },
  {
   "cell_type": "code",
   "execution_count": 276,
   "metadata": {},
   "outputs": [
    {
     "data": {
      "text/plain": [
       "(array([ 1.,  1.,  4.,  9.,  3.,  2., 24.]),\n",
       " array([1300, 1500, 2000, 3000, 4000, 4500, 5000, 7000]),\n",
       " <a list of 7 Patch objects>)"
      ]
     },
     "execution_count": 276,
     "metadata": {},
     "output_type": "execute_result"
    },
    {
     "data": {
      "image/png": "[encoded data removed]",
      "text/plain": [
       "<Figure size 432x288 with 1 Axes>"
      ]
     },
     "metadata": {
      "needs_background": "light"
     },
     "output_type": "display_data"
    }
   ],
   "source": [
    "x = houses['Price']\n",
    "bins=[1300,1500,2000,3000,4000,4500,5000,7000]\n",
    "plt.hist(x,bins,histtype='bar',rwidth=0.8)"
   ]
  },
  {
   "cell_type": "markdown",
   "metadata": {},
   "source": [
    "<p>Like the above two histograms we have the make so many histograms to analyse the plot</p>"
   ]
  },
  {
   "cell_type": "markdown",
   "metadata": {},
   "source": [
    "The histogram is ugly because the  we donot get get any useful info from the histogrma."
   ]
  },
  {
   "cell_type": "code",
   "execution_count": 93,
   "metadata": {},
   "outputs": [],
   "source": [
    "x=houses[houses.Price & houses['Town/City'].str.contains('LONDON')]"
   ]
  },
  {
   "cell_type": "markdown",
   "metadata": {},
   "source": [
    "<strong>Inside London</strong>"
   ]
  },
  {
   "cell_type": "code",
   "execution_count": 94,
   "metadata": {},
   "outputs": [
    {
     "data": {
      "text/plain": [
       "<matplotlib.axes._subplots.AxesSubplot at 0x2142d6f6630>"
      ]
     },
     "execution_count": 94,
     "metadata": {},
     "output_type": "execute_result"
    },
    {
     "data": {
      "image/png": "[encoded data removed]",
      "text/plain": [
       "<Figure size 432x288 with 1 Axes>"
      ]
     },
     "metadata": {
      "needs_background": "light"
     },
     "output_type": "display_data"
    }
   ],
   "source": [
    "x.plot(kind='hist',rwidth=0.8,color='b')"
   ]
  },
  {
   "cell_type": "markdown",
   "metadata": {},
   "source": [
    "<strong>Outside London</strong>"
   ]
  },
  {
   "cell_type": "code",
   "execution_count": 122,
   "metadata": {},
   "outputs": [],
   "source": [
    "y=houses[houses.Price & houses['Town/City'] != 'LONDON']"
   ]
  },
  {
   "cell_type": "code",
   "execution_count": 123,
   "metadata": {},
   "outputs": [
    {
     "data": {
      "text/plain": [
       "<matplotlib.axes._subplots.AxesSubplot at 0x21431e6ef60>"
      ]
     },
     "execution_count": 123,
     "metadata": {},
     "output_type": "execute_result"
    },
    {
     "data": {
      "image/png": "[encoded data removed]",
      "text/plain": [
       "<Figure size 432x288 with 1 Axes>"
      ]
     },
     "metadata": {
      "needs_background": "light"
     },
     "output_type": "display_data"
    }
   ],
   "source": [
    "y.plot(kind='hist',rwidth=0.8,color='b')"
   ]
  },
  {
   "cell_type": "code",
   "execution_count": 143,
   "metadata": {},
   "outputs": [
    {
     "data": {
      "text/html": [
       "<div>\n",
       "<style scoped>\n",
       "    .dataframe tbody tr th:only-of-type {\n",
       "        vertical-align: middle;\n",
       "    }\n",
       "\n",
       "    .dataframe tbody tr th {\n",
       "        vertical-align: top;\n",
       "    }\n",
       "\n",
       "    .dataframe thead th {\n",
       "        text-align: right;\n",
       "    }\n",
       "</style>\n",
       "<table border=\"1\" class=\"dataframe\">\n",
       "  <thead>\n",
       "    <tr style=\"text-align: right;\">\n",
       "      <th></th>\n",
       "      <th>Transction unique identifier</th>\n",
       "      <th>Price</th>\n",
       "      <th>Date of Transfer</th>\n",
       "      <th>Postcode</th>\n",
       "      <th>Property Type</th>\n",
       "      <th>old/new</th>\n",
       "      <th>Duration</th>\n",
       "      <th>PAON</th>\n",
       "      <th>SAON</th>\n",
       "      <th>Street</th>\n",
       "      <th>Locality</th>\n",
       "      <th>Town/City</th>\n",
       "      <th>District</th>\n",
       "      <th>Country</th>\n",
       "      <th>PPDCategory Type</th>\n",
       "      <th>Record Status-monthly file only</th>\n",
       "    </tr>\n",
       "  </thead>\n",
       "  <tbody>\n",
       "    <tr>\n",
       "      <th>0</th>\n",
       "      <td>{02A6460F-C1F3-4977-B7ED-2A77C79302AE}</td>\n",
       "      <td>52000</td>\n",
       "      <td>2001-12-07</td>\n",
       "      <td>DE6 1BL</td>\n",
       "      <td>S</td>\n",
       "      <td>N</td>\n",
       "      <td>F</td>\n",
       "      <td>1A</td>\n",
       "      <td>NaN</td>\n",
       "      <td>OLD HILL</td>\n",
       "      <td>ASHBOURNE</td>\n",
       "      <td>ASHBOURNE</td>\n",
       "      <td>DERBYSHIRE DALES</td>\n",
       "      <td>DERBYSHIRE</td>\n",
       "      <td>A</td>\n",
       "      <td>A</td>\n",
       "    </tr>\n",
       "    <tr>\n",
       "      <th>1</th>\n",
       "      <td>{5EEB0C41-09F5-4BDF-A73E-A4E72E20BFC4}</td>\n",
       "      <td>57000</td>\n",
       "      <td>2003-09-12</td>\n",
       "      <td>B36 0RA</td>\n",
       "      <td>T</td>\n",
       "      <td>N</td>\n",
       "      <td>F</td>\n",
       "      <td>44</td>\n",
       "      <td>NaN</td>\n",
       "      <td>GREENFINCH ROAD</td>\n",
       "      <td>BIRMINGHAM</td>\n",
       "      <td>BIRMINGHAM</td>\n",
       "      <td>SOLIHULL</td>\n",
       "      <td>WEST MIDLANDS</td>\n",
       "      <td>A</td>\n",
       "      <td>A</td>\n",
       "    </tr>\n",
       "    <tr>\n",
       "      <th>2</th>\n",
       "      <td>{09975216-3588-418C-B6C5-A5704B0E77DE}</td>\n",
       "      <td>69500</td>\n",
       "      <td>2005-12-21</td>\n",
       "      <td>OL16 2XR</td>\n",
       "      <td>T</td>\n",
       "      <td>N</td>\n",
       "      <td>L</td>\n",
       "      <td>143</td>\n",
       "      <td>NaN</td>\n",
       "      <td>BELFIELD ROAD</td>\n",
       "      <td>ROCHDALE</td>\n",
       "      <td>ROCHDALE</td>\n",
       "      <td>ROCHDALE</td>\n",
       "      <td>GREATER MANCHESTER</td>\n",
       "      <td>A</td>\n",
       "      <td>A</td>\n",
       "    </tr>\n",
       "    <tr>\n",
       "      <th>3</th>\n",
       "      <td>{44CB83B9-0EC3-48D4-9B8D-B34D13D3C09E}</td>\n",
       "      <td>84000</td>\n",
       "      <td>2001-01-31</td>\n",
       "      <td>SN1 4LJ</td>\n",
       "      <td>T</td>\n",
       "      <td>N</td>\n",
       "      <td>F</td>\n",
       "      <td>34</td>\n",
       "      <td>NaN</td>\n",
       "      <td>KINGSHILL ROAD</td>\n",
       "      <td>SWINDON</td>\n",
       "      <td>SWINDON</td>\n",
       "      <td>SWINDON</td>\n",
       "      <td>SWINDON</td>\n",
       "      <td>A</td>\n",
       "      <td>A</td>\n",
       "    </tr>\n",
       "    <tr>\n",
       "      <th>4</th>\n",
       "      <td>{74828706-CBFC-406D-B7B6-394B5863E22E}</td>\n",
       "      <td>110000</td>\n",
       "      <td>1998-02-27</td>\n",
       "      <td>OX3 8AJ</td>\n",
       "      <td>S</td>\n",
       "      <td>N</td>\n",
       "      <td>F</td>\n",
       "      <td>62</td>\n",
       "      <td>NaN</td>\n",
       "      <td>WHARTON ROAD</td>\n",
       "      <td>HEADINGTON</td>\n",
       "      <td>OXFORD</td>\n",
       "      <td>OXFORD</td>\n",
       "      <td>OXFORDSHIRE</td>\n",
       "      <td>A</td>\n",
       "      <td>A</td>\n",
       "    </tr>\n",
       "  </tbody>\n",
       "</table>\n",
       "</div>"
      ],
      "text/plain": [
       "             Transction unique identifier   Price Date of Transfer  Postcode  \\\n",
       "0  {02A6460F-C1F3-4977-B7ED-2A77C79302AE}   52000       2001-12-07   DE6 1BL   \n",
       "1  {5EEB0C41-09F5-4BDF-A73E-A4E72E20BFC4}   57000       2003-09-12   B36 0RA   \n",
       "2  {09975216-3588-418C-B6C5-A5704B0E77DE}   69500       2005-12-21  OL16 2XR   \n",
       "3  {44CB83B9-0EC3-48D4-9B8D-B34D13D3C09E}   84000       2001-01-31   SN1 4LJ   \n",
       "4  {74828706-CBFC-406D-B7B6-394B5863E22E}  110000       1998-02-27   OX3 8AJ   \n",
       "\n",
       "  Property Type old/new Duration PAON SAON           Street    Locality  \\\n",
       "0             S       N        F   1A  NaN         OLD HILL   ASHBOURNE   \n",
       "1             T       N        F   44  NaN  GREENFINCH ROAD  BIRMINGHAM   \n",
       "2             T       N        L  143  NaN    BELFIELD ROAD    ROCHDALE   \n",
       "3             T       N        F   34  NaN   KINGSHILL ROAD     SWINDON   \n",
       "4             S       N        F   62  NaN     WHARTON ROAD  HEADINGTON   \n",
       "\n",
       "    Town/City          District             Country PPDCategory Type  \\\n",
       "0   ASHBOURNE  DERBYSHIRE DALES          DERBYSHIRE                A   \n",
       "1  BIRMINGHAM          SOLIHULL       WEST MIDLANDS                A   \n",
       "2    ROCHDALE          ROCHDALE  GREATER MANCHESTER                A   \n",
       "3     SWINDON           SWINDON             SWINDON                A   \n",
       "4      OXFORD            OXFORD         OXFORDSHIRE                A   \n",
       "\n",
       "  Record Status-monthly file only  \n",
       "0                               A  \n",
       "1                               A  \n",
       "2                               A  \n",
       "3                               A  \n",
       "4                               A  "
      ]
     },
     "execution_count": 143,
     "metadata": {},
     "output_type": "execute_result"
    }
   ],
   "source": [
    "houses['Date of Transfer'] = pd.to_datetime(houses['Date of Transfer'])\n",
    "houses.head()"
   ]
  },
  {
   "cell_type": "code",
   "execution_count": 144,
   "metadata": {},
   "outputs": [
    {
     "data": {
      "text/plain": [
       "1995    3709\n",
       "1996    4500\n",
       "1997    4916\n",
       "1998    4940\n",
       "1999    5437\n",
       "Name: Date of Transfer, dtype: int64"
      ]
     },
     "execution_count": 144,
     "metadata": {},
     "output_type": "execute_result"
    }
   ],
   "source": [
    "houses['Date of Transfer'] = houses['Date of Transfer'].dt.year\n",
    "houses['Date of Transfer'].value_counts().sort_index().head()"
   ]
  },
  {
   "cell_type": "code",
   "execution_count": 145,
   "metadata": {},
   "outputs": [
    {
     "data": {
      "text/plain": [
       "<matplotlib.axes._subplots.AxesSubplot at 0x214342132b0>"
      ]
     },
     "execution_count": 145,
     "metadata": {},
     "output_type": "execute_result"
    },
    {
     "data": {
      "image/png": "[encoded data removed]",
      "text/plain": [
       "<Figure size 432x288 with 1 Axes>"
      ]
     },
     "metadata": {
      "needs_background": "light"
     },
     "output_type": "display_data"
    }
   ],
   "source": [
    "houses['Date of Transfer'].value_counts().sort_index().plot()"
   ]
  },
  {
   "cell_type": "markdown",
   "metadata": {},
   "source": [
    "<h3>Part 2. Generating Random Numbers</h3>"
   ]
  },
  {
   "cell_type": "markdown",
   "metadata": {},
   "source": [
    "<strong>Using random distribution</strong>"
   ]
  },
  {
   "cell_type": "code",
   "execution_count": 277,
   "metadata": {},
   "outputs": [],
   "source": [
    "import random\n",
    "def rand(start, end, num): \n",
    "    res = [] \n",
    "  \n",
    "    for j in range(num): \n",
    "        res.append(random.randint(start, end)) \n",
    "  \n",
    "    return res "
   ]
  },
  {
   "cell_type": "markdown",
   "metadata": {},
   "source": [
    "<strong>At size=10</strong>"
   ]
  },
  {
   "cell_type": "code",
   "execution_count": 278,
   "metadata": {},
   "outputs": [
    {
     "name": "stdout",
     "output_type": "stream",
     "text": [
      "[0, 1, 0, 1, 1, 1, 1, 0, 1, 1]\n"
     ]
    }
   ],
   "source": [
    "n=10\n",
    "s=0\n",
    "e=1\n",
    "first_list = rand(s,e,n)\n",
    "print(first_list)"
   ]
  },
  {
   "cell_type": "code",
   "execution_count": 279,
   "metadata": {},
   "outputs": [
    {
     "data": {
      "text/plain": [
       "(array([3., 7., 0., 0., 0., 0., 0., 0., 0., 0.]),\n",
       " array([ 0,  1,  2,  3,  4,  5,  6,  7,  8,  9, 10]),\n",
       " <a list of 10 Patch objects>)"
      ]
     },
     "execution_count": 279,
     "metadata": {},
     "output_type": "execute_result"
    },
    {
     "data": {
      "image/png": "[encoded data removed]",
      "text/plain": [
       "<Figure size 432x288 with 1 Axes>"
      ]
     },
     "metadata": {
      "needs_background": "light"
     },
     "output_type": "display_data"
    }
   ],
   "source": [
    "bins=[0,1,2,3,4,5,6,7,8,9,10]\n",
    "plt.hist(first_list,bins,histtype='bar',rwidth=0.9)"
   ]
  },
  {
   "cell_type": "markdown",
   "metadata": {},
   "source": [
    "   <strong>On decreasing the size of list</strong>"
   ]
  },
  {
   "cell_type": "code",
   "execution_count": 280,
   "metadata": {},
   "outputs": [
    {
     "name": "stdout",
     "output_type": "stream",
     "text": [
      "[1, 1, 0, 1, 1, 0, 0, 0]\n"
     ]
    }
   ],
   "source": [
    "n=8\n",
    "s=0\n",
    "e=1\n",
    "second_list = rand(s,e,n)\n",
    "print(second_list)"
   ]
  },
  {
   "cell_type": "code",
   "execution_count": 281,
   "metadata": {},
   "outputs": [
    {
     "data": {
      "text/plain": [
       "(array([4., 4., 0., 0., 0., 0., 0., 0., 0., 0., 0.]),\n",
       " array([ 0,  1,  2,  3,  4,  5,  6,  7,  8,  9, 10, 11]),\n",
       " <a list of 11 Patch objects>)"
      ]
     },
     "execution_count": 281,
     "metadata": {},
     "output_type": "execute_result"
    },
    {
     "data": {
      "image/png": "[encoded data removed]",
      "text/plain": [
       "<Figure size 432x288 with 1 Axes>"
      ]
     },
     "metadata": {
      "needs_background": "light"
     },
     "output_type": "display_data"
    }
   ],
   "source": [
    "bins=[0,1,2,3,4,5,6,7,8,9,10,11]\n",
    "plt.hist(second_list,bins,histtype='bar',rwidth=0.9)"
   ]
  },
  {
   "cell_type": "markdown",
   "metadata": {},
   "source": [
    "<strong>On increasing the size of list</strong>"
   ]
  },
  {
   "cell_type": "code",
   "execution_count": 282,
   "metadata": {},
   "outputs": [
    {
     "name": "stdout",
     "output_type": "stream",
     "text": [
      "[0, 1, 1, 1, 0, 0, 1, 0, 0, 1, 0, 0, 0, 0, 0]\n"
     ]
    }
   ],
   "source": [
    "n=15\n",
    "s=0\n",
    "e=1\n",
    "third_list = rand(s,e,n)\n",
    "print(third_list)"
   ]
  },
  {
   "cell_type": "code",
   "execution_count": 284,
   "metadata": {},
   "outputs": [
    {
     "data": {
      "text/plain": [
       "(array([10.,  5.,  0.,  0.,  0.,  0.,  0.,  0.,  0.,  0.,  0.,  0.]),\n",
       " array([ 0,  1,  2,  3,  4,  5,  6,  7,  8,  9, 10, 11, 12]),\n",
       " <a list of 12 Patch objects>)"
      ]
     },
     "execution_count": 284,
     "metadata": {},
     "output_type": "execute_result"
    },
    {
     "data": {
      "image/png": "[encoded data removed]",
      "text/plain": [
       "<Figure size 432x288 with 1 Axes>"
      ]
     },
     "metadata": {
      "needs_background": "light"
     },
     "output_type": "display_data"
    }
   ],
   "source": [
    "bins=[0,1,2,3,4,5,6,7,8,9,10,11,12]\n",
    "plt.hist(third_list,bins,histtype='bar',rwidth=0.9)"
   ]
  },
  {
   "cell_type": "markdown",
   "metadata": {},
   "source": [
    "<strong>Shapes in the three cases</strong>"
   ]
  },
  {
   "cell_type": "markdown",
   "metadata": {},
   "source": [
    "<h4>CASE 1.</h4>\n",
    "<p>Left skewed</p>\n",
    "<p>Unimodal</p>"
   ]
  },
  {
   "cell_type": "markdown",
   "metadata": {},
   "source": [
    "<h4>CASE 2.</h4>\n",
    "<p>symetric</p>\n",
    "<p>uniform</p>"
   ]
  },
  {
   "cell_type": "markdown",
   "metadata": {},
   "source": [
    "<h4>CASE 3.</h4>\n",
    "<p>Unimodal</p>\n",
    "<p>Right Skewed</p>"
   ]
  },
  {
   "cell_type": "markdown",
   "metadata": {},
   "source": [
    "</p>Basically the shape of the histogram varies all the time, we the run the code </p>"
   ]
  },
  {
   "cell_type": "markdown",
   "metadata": {},
   "source": [
    "<strong>Normal Distribution</strong>"
   ]
  },
  {
   "cell_type": "markdown",
   "metadata": {},
   "source": [
    "<strong>when size is 100</strong>"
   ]
  },
  {
   "cell_type": "code",
   "execution_count": 295,
   "metadata": {},
   "outputs": [
    {
     "data": {
      "image/png": "[encoded data removed]",
      "text/plain": [
       "<Figure size 432x288 with 1 Axes>"
      ]
     },
     "metadata": {
      "needs_background": "light"
     },
     "output_type": "display_data"
    }
   ],
   "source": [
    "mu = 0\n",
    "variance = 1\n",
    "sigma = math.sqrt(variance)\n",
    "x = np.linspace(mu - 3*sigma, mu + 3*sigma, 50)\n",
    "plt.plot(x, stats.norm.pdf(x, mu, sigma))\n",
    "plt.show()\n"
   ]
  },
  {
   "cell_type": "markdown",
   "metadata": {},
   "source": [
    "<strong>Decreasing the size</strong>"
   ]
  },
  {
   "cell_type": "code",
   "execution_count": 296,
   "metadata": {},
   "outputs": [
    {
     "data": {
      "image/png": "[encoded data removed]",
      "text/plain": [
       "<Figure size 432x288 with 1 Axes>"
      ]
     },
     "metadata": {
      "needs_background": "light"
     },
     "output_type": "display_data"
    }
   ],
   "source": [
    "mu = 0\n",
    "variance = 1\n",
    "sigma = math.sqrt(variance)\n",
    "x = np.linspace(mu - 3*sigma, mu + 3*sigma, 20)\n",
    "plt.plot(x, stats.norm.pdf(x, mu, sigma))\n",
    "plt.show()\n"
   ]
  },
  {
   "cell_type": "markdown",
   "metadata": {},
   "source": [
    "<strong>Increasing the size</strong>"
   ]
  },
  {
   "cell_type": "code",
   "execution_count": 307,
   "metadata": {},
   "outputs": [
    {
     "data": {
      "image/png": "[encoded data removed]",
      "text/plain": [
       "<Figure size 432x288 with 1 Axes>"
      ]
     },
     "metadata": {
      "needs_background": "light"
     },
     "output_type": "display_data"
    }
   ],
   "source": [
    "mu = 0\n",
    "variance = 1\n",
    "sigma = math.sqrt(variance)\n",
    "x = np.linspace(mu - 3*sigma, mu + 3*sigma, 9000000)\n",
    "plt.plot(x, stats.norm.pdf(x, mu, sigma))\n",
    "plt.show()\n"
   ]
  },
  {
   "cell_type": "markdown",
   "metadata": {},
   "source": [
    "<p>We find that on decreasing the size the edges are started devloping</p>\n",
    "<p>On increasing the size the curveness of the curve increases</p>"
   ]
  },
  {
   "cell_type": "code",
   "execution_count": null,
   "metadata": {},
   "outputs": [],
   "source": []
  }
 ],
 "metadata": {
  "kernelspec": {
   "display_name": "Python 3",
   "language": "python",
   "name": "python3"
  },
  "language_info": {
   "codemirror_mode": {
    "name": "ipython",
    "version": 3
   },
   "file_extension": ".py",
   "mimetype": "text/x-python",
   "name": "python",
   "nbconvert_exporter": "python",
   "pygments_lexer": "ipython3",
   "version": "3.7.3"
  }
 },
 "nbformat": 4,
 "nbformat_minor": 2
}
